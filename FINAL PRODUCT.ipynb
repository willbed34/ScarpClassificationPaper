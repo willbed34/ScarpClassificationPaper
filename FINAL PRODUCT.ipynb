{
 "cells": [
  {
   "attachments": {},
   "cell_type": "markdown",
   "metadata": {},
   "source": [
    "# Interpolating measurements from DEM images"
   ]
  },
  {
   "cell_type": "code",
   "execution_count": 1,
   "metadata": {},
   "outputs": [
    {
     "name": "stdout",
     "output_type": "stream",
     "text": [
      "TensorFlow version: 2.13.0\n"
     ]
    }
   ],
   "source": [
    "import matplotlib.pyplot as plt\n",
    "import preprocess\n",
    "import operations\n",
    "import linear_operations\n",
    "import cv2\n",
    "import numpy as np\n",
    "import os\n",
    "import re\n",
    "import constants\n",
    "from constants import ScarpClassification\n",
    "from PIL import Image\n",
    "from extract_data import interpolate_image\n",
    "%load_ext autoreload\n",
    "%autoreload 2"
   ]
  },
  {
   "attachments": {},
   "cell_type": "markdown",
   "metadata": {},
   "source": [
    "### Create CSV\n"
   ]
  },
  {
   "cell_type": "code",
   "execution_count": 3,
   "metadata": {},
   "outputs": [],
   "source": [
    "import datetime\n",
    "def create_csv_header(): \n",
    "    day_dir = os.path.join(\"results\", datetime.datetime.now().strftime(\"%m%d%Y\"))\n",
    "    if not os.path.exists(day_dir):\n",
    "        os.makedirs(day_dir)\n",
    "    cur_date = datetime.datetime.now().strftime(\"%m_%d_%Y_%H_%M_%S\")\n",
    "    file_to_write_to = os.path.join(day_dir, cur_date + \"__measurements.csv\")\n",
    "\n",
    "    operations.write_row_to_csv(file_to_write_to, constants.HEADER, 'w')\n",
    "    return file_to_write_to"
   ]
  },
  {
   "attachments": {},
   "cell_type": "markdown",
   "metadata": {},
   "source": [
    "### Most important part: Extracting the data from the image!"
   ]
  },
  {
   "attachments": {},
   "cell_type": "markdown",
   "metadata": {},
   "source": [
    "### Single Trial"
   ]
  },
  {
   "cell_type": "code",
   "execution_count": 51,
   "metadata": {},
   "outputs": [
    {
     "name": "stdout",
     "output_type": "stream",
     "text": [
      "This many images:  1818\n"
     ]
    }
   ],
   "source": [
    "pr_example = \"D10_coh1.0e+06_ten1.0e+06_dip20_FS0.75\"\n",
    "mc_example = \"D10_coh1.0e+06_ten1.0e+05_dip45_FS0.75\"\n",
    "ss_example = \"D10_coh1.0e+06_ten1.0e+05_dip70_FS0.75\"\n",
    "trial = \"M10_coh1.5e+06_ten1.0e+06_dip45_FS0.25\"\n",
    "bad_example = \"L3_coh1.0e+05_ten1.0e+06_dip45_FS0.25\"\n",
    "hetero_ex = \"D3_A_dip20_FS0.5\"\n",
    "bad_trial = \"D10_R6_dip70_FS0.25\"\n",
    "trial = ss_example\n",
    "\n",
    "\n",
    "\n",
    "# trial = \"M5_coh5.0e+05_ten5.0e+05_dip70_FS0.5\"\n",
    "list_of_trials = [trial]\n",
    "# list_of_trials = [\"D5_coh1.5e+06_ten1.5e+06_dip60_FS0.25\",\n",
    "# \"D5_coh1.5e+06_ten1.5e+06_dip60_FS0.5\",\n",
    "# \"D5_coh1.5e+06_ten1.5e+06_dip60_FS0.75\"]\n",
    "number_of_images = 101\n",
    "image_dict, trial_size_dict = preprocess.get_data_from_trials(number_of_images, use_all_trials = False, list_of_trials = list_of_trials, show_first_image = False)\n",
    "print(\"This many images: \", len(image_dict))\n",
    "# Commenting out so we dont write\n",
    "#file_to_write_to = create_csv_header()\n",
    "\n",
    "num_done = 0\n",
    "total_images = len(image_dict.keys())\n",
    "for image_path in list(image_dict.keys())[-4:]:\n",
    "    test_image = image_dict[image_path]\n",
    "    pixel_dictionary = interpolate_image(image_path, test_image, trial_size_dict, True, False, False)\n",
    "    # Commenting out so we dont write\n",
    "    #operations.put_dict_in_csv(file_to_write_to, pixel_dictionary)\n",
    "    num_done+=1\n",
    "    if num_done % 100 == 0:\n",
    "        print(\"We did: \", num_done,\" out of \", total_images)\n",
    "# print(\"wrote to: \", file_to_write_to)\n",
    "\n",
    "trial_we_want = trial\n",
    "\n",
    "img_dir = os.path.join(\"results\", \"visualizations\", trial_we_want)\n",
    "\n",
    "output_dir = os.path.join(\"results\", \"gifs\")\n",
    "if not os.path.exists(output_dir):\n",
    "    os.makedirs(output_dir)\n",
    "\n",
    "# # Output GIF filename\n",
    "# output_gif = trial_we_want + '.gif'\n",
    "#TODO CHANGE THIS\n",
    "output_gif = 'temp.gif'\n",
    "\n",
    "# List all PNG files in the directory\n",
    "png_files = [f for f in os.listdir(img_dir) if f.endswith('.png')]\n",
    "png_files.sort()  # Sort the files to maintain order\n",
    "\n",
    "# Open the first image to get dimensions\n",
    "with Image.open(os.path.join(img_dir, png_files[0])) as first_image:\n",
    "    # Create a new GIF file and add frames\n",
    "    gif_path = os.path.join(output_dir, output_gif)\n",
    "    frames = [Image.open(os.path.join(img_dir, f)) for f in png_files[1:]]\n",
    "    first_image.save(\n",
    "        gif_path,\n",
    "        save_all=True,\n",
    "        append_images=frames,\n",
    "        duration=200,  # Time in milliseconds for each frame\n",
    "        loop=0  # 0 means the GIF will loop indefinitely\n",
    "    )\n"
   ]
  },
  {
   "cell_type": "markdown",
   "metadata": {},
   "source": [
    "### making viz for paper\n"
   ]
  },
  {
   "cell_type": "code",
   "execution_count": 2,
   "metadata": {},
   "outputs": [
    {
     "name": "stdout",
     "output_type": "stream",
     "text": [
      "starting trial  D3_coh5.0e+05_ten5.0e+05_dip20_FS0.5\n",
      "Total Progress  0 / 18\n"
     ]
    },
    {
     "name": "stderr",
     "output_type": "stream",
     "text": [
      "c:\\Users\\wib994\\WillCode\\HarvardSeismo\\ImageMeasuring\\operations.py:546: RuntimeWarning: invalid value encountered in divide\n",
      "  line_direction_normalized = np.array(line_direction) / np.linalg.norm(np.array(line_direction))\n",
      "c:\\Users\\wib994\\WillCode\\HarvardSeismo\\ImageMeasuring\\operations.py:546: RuntimeWarning: invalid value encountered in divide\n",
      "  line_direction_normalized = np.array(line_direction) / np.linalg.norm(np.array(line_direction))\n",
      "c:\\Users\\wib994\\WillCode\\HarvardSeismo\\ImageMeasuring\\operations.py:546: RuntimeWarning: invalid value encountered in divide\n",
      "  line_direction_normalized = np.array(line_direction) / np.linalg.norm(np.array(line_direction))\n",
      "c:\\Users\\wib994\\WillCode\\HarvardSeismo\\ImageMeasuring\\operations.py:546: RuntimeWarning: invalid value encountered in divide\n",
      "  line_direction_normalized = np.array(line_direction) / np.linalg.norm(np.array(line_direction))\n"
     ]
    },
    {
     "name": "stdout",
     "output_type": "stream",
     "text": [
      "starting trial  D5_coh5.0e+05_ten5.0e+05_dip20_FS0.5\n",
      "Total Progress  1 / 18\n"
     ]
    },
    {
     "name": "stderr",
     "output_type": "stream",
     "text": [
      "c:\\Users\\wib994\\WillCode\\HarvardSeismo\\ImageMeasuring\\operations.py:546: RuntimeWarning: invalid value encountered in divide\n",
      "  line_direction_normalized = np.array(line_direction) / np.linalg.norm(np.array(line_direction))\n",
      "c:\\Users\\wib994\\WillCode\\HarvardSeismo\\ImageMeasuring\\operations.py:546: RuntimeWarning: invalid value encountered in divide\n",
      "  line_direction_normalized = np.array(line_direction) / np.linalg.norm(np.array(line_direction))\n"
     ]
    },
    {
     "name": "stdout",
     "output_type": "stream",
     "text": [
      "starting trial  D10_coh5.0e+05_ten5.0e+05_dip20_FS0.5\n",
      "Total Progress  2 / 18\n"
     ]
    },
    {
     "name": "stderr",
     "output_type": "stream",
     "text": [
      "c:\\Users\\wib994\\WillCode\\HarvardSeismo\\ImageMeasuring\\operations.py:546: RuntimeWarning: invalid value encountered in divide\n",
      "  line_direction_normalized = np.array(line_direction) / np.linalg.norm(np.array(line_direction))\n",
      "c:\\Users\\wib994\\WillCode\\HarvardSeismo\\ImageMeasuring\\operations.py:546: RuntimeWarning: invalid value encountered in divide\n",
      "  line_direction_normalized = np.array(line_direction) / np.linalg.norm(np.array(line_direction))\n",
      "c:\\Users\\wib994\\WillCode\\HarvardSeismo\\ImageMeasuring\\operations.py:546: RuntimeWarning: invalid value encountered in divide\n",
      "  line_direction_normalized = np.array(line_direction) / np.linalg.norm(np.array(line_direction))\n"
     ]
    },
    {
     "name": "stdout",
     "output_type": "stream",
     "text": [
      "starting trial  D3_coh1.0e+05_ten1.0e+05_dip60_FS0.25\n",
      "Total Progress  3 / 18\n"
     ]
    },
    {
     "name": "stderr",
     "output_type": "stream",
     "text": [
      "c:\\Users\\wib994\\WillCode\\HarvardSeismo\\ImageMeasuring\\operations.py:546: RuntimeWarning: invalid value encountered in divide\n",
      "  line_direction_normalized = np.array(line_direction) / np.linalg.norm(np.array(line_direction))\n"
     ]
    },
    {
     "name": "stdout",
     "output_type": "stream",
     "text": [
      "starting trial  D5_coh1.0e+05_ten1.0e+05_dip60_FS0.25\n",
      "Total Progress  4 / 18\n"
     ]
    },
    {
     "name": "stderr",
     "output_type": "stream",
     "text": [
      "c:\\Users\\wib994\\WillCode\\HarvardSeismo\\ImageMeasuring\\operations.py:546: RuntimeWarning: invalid value encountered in divide\n",
      "  line_direction_normalized = np.array(line_direction) / np.linalg.norm(np.array(line_direction))\n",
      "c:\\Users\\wib994\\WillCode\\HarvardSeismo\\ImageMeasuring\\operations.py:546: RuntimeWarning: invalid value encountered in divide\n",
      "  line_direction_normalized = np.array(line_direction) / np.linalg.norm(np.array(line_direction))\n",
      "c:\\Users\\wib994\\WillCode\\HarvardSeismo\\WillEnv\\Lib\\site-packages\\sklearn\\metrics\\_regression.py:996: UndefinedMetricWarning: R^2 score is not well-defined with less than two samples.\n",
      "  warnings.warn(msg, UndefinedMetricWarning)\n"
     ]
    },
    {
     "name": "stdout",
     "output_type": "stream",
     "text": [
      "starting trial  D10_coh1.0e+05_ten1.0e+05_dip60_FS0.25\n",
      "Total Progress  5 / 18\n"
     ]
    },
    {
     "name": "stderr",
     "output_type": "stream",
     "text": [
      "c:\\Users\\wib994\\WillCode\\HarvardSeismo\\ImageMeasuring\\operations.py:546: RuntimeWarning: invalid value encountered in divide\n",
      "  line_direction_normalized = np.array(line_direction) / np.linalg.norm(np.array(line_direction))\n",
      "c:\\Users\\wib994\\WillCode\\HarvardSeismo\\ImageMeasuring\\operations.py:546: RuntimeWarning: invalid value encountered in divide\n",
      "  line_direction_normalized = np.array(line_direction) / np.linalg.norm(np.array(line_direction))\n",
      "c:\\Users\\wib994\\WillCode\\HarvardSeismo\\ImageMeasuring\\operations.py:546: RuntimeWarning: invalid value encountered in divide\n",
      "  line_direction_normalized = np.array(line_direction) / np.linalg.norm(np.array(line_direction))\n",
      "c:\\Users\\wib994\\WillCode\\HarvardSeismo\\ImageMeasuring\\operations.py:546: RuntimeWarning: invalid value encountered in divide\n",
      "  line_direction_normalized = np.array(line_direction) / np.linalg.norm(np.array(line_direction))\n"
     ]
    },
    {
     "name": "stdout",
     "output_type": "stream",
     "text": [
      "starting trial  D3_coh1.0e+06_ten1.0e+06_dip70_FS0.25\n",
      "Total Progress  6 / 18\n"
     ]
    },
    {
     "name": "stderr",
     "output_type": "stream",
     "text": [
      "c:\\Users\\wib994\\WillCode\\HarvardSeismo\\ImageMeasuring\\operations.py:546: RuntimeWarning: invalid value encountered in divide\n",
      "  line_direction_normalized = np.array(line_direction) / np.linalg.norm(np.array(line_direction))\n",
      "c:\\Users\\wib994\\WillCode\\HarvardSeismo\\ImageMeasuring\\operations.py:546: RuntimeWarning: invalid value encountered in divide\n",
      "  line_direction_normalized = np.array(line_direction) / np.linalg.norm(np.array(line_direction))\n",
      "c:\\Users\\wib994\\WillCode\\HarvardSeismo\\WillEnv\\Lib\\site-packages\\sklearn\\metrics\\_regression.py:996: UndefinedMetricWarning: R^2 score is not well-defined with less than two samples.\n",
      "  warnings.warn(msg, UndefinedMetricWarning)\n"
     ]
    },
    {
     "name": "stdout",
     "output_type": "stream",
     "text": [
      "starting trial  D5_coh1.5e+06_ten1.5e+06_dip60_FS0.75\n",
      "Total Progress  7 / 18\n"
     ]
    },
    {
     "name": "stderr",
     "output_type": "stream",
     "text": [
      "c:\\Users\\wib994\\WillCode\\HarvardSeismo\\ImageMeasuring\\operations.py:546: RuntimeWarning: invalid value encountered in divide\n",
      "  line_direction_normalized = np.array(line_direction) / np.linalg.norm(np.array(line_direction))\n"
     ]
    },
    {
     "name": "stdout",
     "output_type": "stream",
     "text": [
      "starting trial  D10_coh2.0e+06_ten1.0e+06_dip70_FS0.75\n",
      "Total Progress  8 / 18\n"
     ]
    },
    {
     "name": "stderr",
     "output_type": "stream",
     "text": [
      "c:\\Users\\wib994\\WillCode\\HarvardSeismo\\ImageMeasuring\\operations.py:546: RuntimeWarning: invalid value encountered in divide\n",
      "  line_direction_normalized = np.array(line_direction) / np.linalg.norm(np.array(line_direction))\n",
      "c:\\Users\\wib994\\WillCode\\HarvardSeismo\\ImageMeasuring\\operations.py:546: RuntimeWarning: invalid value encountered in divide\n",
      "  line_direction_normalized = np.array(line_direction) / np.linalg.norm(np.array(line_direction))\n",
      "c:\\Users\\wib994\\WillCode\\HarvardSeismo\\ImageMeasuring\\operations.py:546: RuntimeWarning: invalid value encountered in divide\n",
      "  line_direction_normalized = np.array(line_direction) / np.linalg.norm(np.array(line_direction))\n"
     ]
    },
    {
     "name": "stdout",
     "output_type": "stream",
     "text": [
      "starting trial  D3_coh2.0e+06_ten1.0e+06_dip20_FS0.25\n",
      "Total Progress  9 / 18\n"
     ]
    },
    {
     "name": "stderr",
     "output_type": "stream",
     "text": [
      "c:\\Users\\wib994\\WillCode\\HarvardSeismo\\ImageMeasuring\\operations.py:546: RuntimeWarning: invalid value encountered in divide\n",
      "  line_direction_normalized = np.array(line_direction) / np.linalg.norm(np.array(line_direction))\n"
     ]
    },
    {
     "name": "stdout",
     "output_type": "stream",
     "text": [
      "starting trial  D5_coh1.0e+06_ten1.0e+06_dip40_FS0.25\n",
      "Total Progress  10 / 18\n"
     ]
    },
    {
     "name": "stderr",
     "output_type": "stream",
     "text": [
      "c:\\Users\\wib994\\WillCode\\HarvardSeismo\\ImageMeasuring\\operations.py:546: RuntimeWarning: invalid value encountered in divide\n",
      "  line_direction_normalized = np.array(line_direction) / np.linalg.norm(np.array(line_direction))\n"
     ]
    },
    {
     "name": "stdout",
     "output_type": "stream",
     "text": [
      "starting trial  D10_coh1.0e+06_ten1.0e+06_dip20_FS0.25\n",
      "Total Progress  11 / 18\n"
     ]
    },
    {
     "name": "stderr",
     "output_type": "stream",
     "text": [
      "c:\\Users\\wib994\\WillCode\\HarvardSeismo\\ImageMeasuring\\operations.py:546: RuntimeWarning: invalid value encountered in divide\n",
      "  line_direction_normalized = np.array(line_direction) / np.linalg.norm(np.array(line_direction))\n",
      "c:\\Users\\wib994\\WillCode\\HarvardSeismo\\ImageMeasuring\\operations.py:546: RuntimeWarning: invalid value encountered in divide\n",
      "  line_direction_normalized = np.array(line_direction) / np.linalg.norm(np.array(line_direction))\n"
     ]
    },
    {
     "name": "stdout",
     "output_type": "stream",
     "text": [
      "starting trial  D3_coh2.0e+06_ten2.0e+06_dip40_FS0.5\n",
      "Total Progress  12 / 18\n"
     ]
    },
    {
     "name": "stderr",
     "output_type": "stream",
     "text": [
      "c:\\Users\\wib994\\WillCode\\HarvardSeismo\\ImageMeasuring\\operations.py:546: RuntimeWarning: invalid value encountered in divide\n",
      "  line_direction_normalized = np.array(line_direction) / np.linalg.norm(np.array(line_direction))\n",
      "c:\\Users\\wib994\\WillCode\\HarvardSeismo\\ImageMeasuring\\operations.py:546: RuntimeWarning: invalid value encountered in divide\n",
      "  line_direction_normalized = np.array(line_direction) / np.linalg.norm(np.array(line_direction))\n",
      "c:\\Users\\wib994\\WillCode\\HarvardSeismo\\ImageMeasuring\\operations.py:546: RuntimeWarning: invalid value encountered in divide\n",
      "  line_direction_normalized = np.array(line_direction) / np.linalg.norm(np.array(line_direction))\n"
     ]
    },
    {
     "name": "stdout",
     "output_type": "stream",
     "text": [
      "starting trial  D5_coh2.0e+06_ten2.0e+06_dip40_FS0.5\n",
      "Total Progress  13 / 18\n"
     ]
    },
    {
     "name": "stderr",
     "output_type": "stream",
     "text": [
      "c:\\Users\\wib994\\WillCode\\HarvardSeismo\\ImageMeasuring\\operations.py:546: RuntimeWarning: invalid value encountered in divide\n",
      "  line_direction_normalized = np.array(line_direction) / np.linalg.norm(np.array(line_direction))\n"
     ]
    },
    {
     "name": "stdout",
     "output_type": "stream",
     "text": [
      "starting trial  D10_coh1.0e+06_ten1.0e+06_dip50_FS0.75\n",
      "Total Progress  14 / 18\n"
     ]
    },
    {
     "name": "stderr",
     "output_type": "stream",
     "text": [
      "c:\\Users\\wib994\\WillCode\\HarvardSeismo\\ImageMeasuring\\operations.py:546: RuntimeWarning: invalid value encountered in divide\n",
      "  line_direction_normalized = np.array(line_direction) / np.linalg.norm(np.array(line_direction))\n",
      "c:\\Users\\wib994\\WillCode\\HarvardSeismo\\ImageMeasuring\\operations.py:546: RuntimeWarning: invalid value encountered in divide\n",
      "  line_direction_normalized = np.array(line_direction) / np.linalg.norm(np.array(line_direction))\n",
      "c:\\Users\\wib994\\WillCode\\HarvardSeismo\\WillEnv\\Lib\\site-packages\\sklearn\\metrics\\_regression.py:996: UndefinedMetricWarning: R^2 score is not well-defined with less than two samples.\n",
      "  warnings.warn(msg, UndefinedMetricWarning)\n"
     ]
    },
    {
     "name": "stdout",
     "output_type": "stream",
     "text": [
      "starting trial  D3_coh1.5e+06_ten1.5e+06_dip40_FS0.5\n",
      "Total Progress  15 / 18\n"
     ]
    },
    {
     "name": "stderr",
     "output_type": "stream",
     "text": [
      "c:\\Users\\wib994\\WillCode\\HarvardSeismo\\ImageMeasuring\\operations.py:546: RuntimeWarning: invalid value encountered in divide\n",
      "  line_direction_normalized = np.array(line_direction) / np.linalg.norm(np.array(line_direction))\n",
      "c:\\Users\\wib994\\WillCode\\HarvardSeismo\\ImageMeasuring\\operations.py:546: RuntimeWarning: invalid value encountered in divide\n",
      "  line_direction_normalized = np.array(line_direction) / np.linalg.norm(np.array(line_direction))\n"
     ]
    },
    {
     "name": "stdout",
     "output_type": "stream",
     "text": [
      "starting trial  D5_coh1.0e+06_ten1.0e+05_dip60_FS0.75\n",
      "Total Progress  16 / 18\n",
      "starting trial  D10_coh1.0e+06_ten1.0e+05_dip70_FS0.75\n",
      "Total Progress  17 / 18\n"
     ]
    },
    {
     "name": "stderr",
     "output_type": "stream",
     "text": [
      "c:\\Users\\wib994\\WillCode\\HarvardSeismo\\ImageMeasuring\\operations.py:546: RuntimeWarning: invalid value encountered in divide\n",
      "  line_direction_normalized = np.array(line_direction) / np.linalg.norm(np.array(line_direction))\n",
      "c:\\Users\\wib994\\WillCode\\HarvardSeismo\\ImageMeasuring\\operations.py:546: RuntimeWarning: invalid value encountered in divide\n",
      "  line_direction_normalized = np.array(line_direction) / np.linalg.norm(np.array(line_direction))\n"
     ]
    }
   ],
   "source": [
    "paper_viz_trials = [\n",
    "\"D3_coh5.0e+05_ten5.0e+05_dip20_FS0.5\",\n",
    "\"D5_coh5.0e+05_ten5.0e+05_dip20_FS0.5\",\n",
    "\"D10_coh5.0e+05_ten5.0e+05_dip20_FS0.5\",\n",
    "\"D3_coh1.0e+05_ten1.0e+05_dip60_FS0.25\",\n",
    "\"D5_coh1.0e+05_ten1.0e+05_dip60_FS0.25\",\n",
    "\"D10_coh1.0e+05_ten1.0e+05_dip60_FS0.25\",\n",
    "\"D3_coh1.0e+06_ten1.0e+06_dip70_FS0.25\",\n",
    "\"D5_coh1.5e+06_ten1.5e+06_dip60_FS0.75\",\n",
    "\"D10_coh2.0e+06_ten1.0e+06_dip70_FS0.75\",\n",
    "\"D3_coh2.0e+06_ten1.0e+06_dip20_FS0.25\",\n",
    "\"D5_coh1.0e+06_ten1.0e+06_dip40_FS0.25\",\n",
    "\"D10_coh1.0e+06_ten1.0e+06_dip20_FS0.25\",\n",
    "\"D3_coh2.0e+06_ten2.0e+06_dip40_FS0.5\",\n",
    "\"D5_coh2.0e+06_ten2.0e+06_dip40_FS0.5\",\n",
    "\"D10_coh1.0e+06_ten1.0e+06_dip50_FS0.75\",\n",
    "\"D3_coh1.5e+06_ten1.5e+06_dip40_FS0.5\",\n",
    "\"D5_coh1.0e+06_ten1.0e+05_dip60_FS0.75\",\n",
    "\"D10_coh1.0e+06_ten1.0e+05_dip70_FS0.75\"\n",
    "]\n",
    "\n",
    "list_of_trials = paper_viz_trials\n",
    "\n",
    "#error trials dont have contact folder, images are just wherever\n",
    "interval_of_slip = 0.05\n",
    "number_of_images = int(5/interval_of_slip) + 1\n",
    "for i in range(len(list_of_trials)):\n",
    "    print(\"starting trial \", list_of_trials[i])\n",
    "    print(\"Total Progress \", i, \"/\", len(list_of_trials))\n",
    "    single_image_dict, single_trial_size_dict = preprocess.get_data_from_trials(number_of_images, use_all_trials = False, list_of_trials = [list_of_trials[i]], show_first_image = False)\n",
    "    for image_path in single_image_dict.keys():\n",
    "        test_image = single_image_dict[image_path]\n",
    "        if test_image is not None:\n",
    "            pixel_dictionary = interpolate_image(image_path, test_image, single_trial_size_dict, True, False, False)\n",
    "        else:\n",
    "            print(f\"Failed to load image: {image_path}\")"
   ]
  },
  {
   "attachments": {},
   "cell_type": "markdown",
   "metadata": {},
   "source": [
    "### All Trials (15 mins for 4500)"
   ]
  },
  {
   "cell_type": "code",
   "execution_count": 15,
   "metadata": {},
   "outputs": [],
   "source": [
    "# file_to_write_to = r'C:\\Users\\wib994\\WillCode\\HarvardSeismo\\ImageMeasuring\\results\\most_recent.csv'\n",
    "file_to_write_to = create_csv_header()\n",
    "# #TEMP, because we are adding missed trials"
   ]
  },
  {
   "cell_type": "code",
   "execution_count": 4,
   "metadata": {},
   "outputs": [
    {
     "name": "stdout",
     "output_type": "stream",
     "text": [
      "This how many trials:  2\n"
     ]
    }
   ],
   "source": [
    "list_of_trials = preprocess.get_directories(r\"I:\\dem\\Homogeneous_Results\")\n",
    "#TEMP, because we are adding missed trials:\n",
    "file_to_write_to = r'C:\\Users\\wib994\\WillCode\\HarvardSeismo\\most_recent-2.csv'\n",
    "list_of_trials = ['M5_coh5.0e+05_ten1.0e+06_dip60_FS0.25', 'M5_coh5.0e+05_ten1.0e+06_dip60_FS0.5']\n",
    "print(\"This how many trials: \", len(list_of_trials))"
   ]
  },
  {
   "cell_type": "code",
   "execution_count": 52,
   "metadata": {},
   "outputs": [
    {
     "name": "stdout",
     "output_type": "stream",
     "text": [
      "C:\\Users\\wib994\\WillCode\\HarvardSeismo\\good_trials_04_03.csv\n"
     ]
    }
   ],
   "source": [
    "#Find specific index of a trial\n",
    "#problem w 893\n",
    "# index = list_of_trials.index(\"M3_B_dip20_FS0.75\")\n",
    "# print(index)\n",
    "file_to_write_to = r\"C:\\Users\\wib994\\WillCode\\HarvardSeismo\\good_trials_04_03.csv\"\n",
    "print(file_to_write_to)\n",
    "list_of_trials = ['D10_R_dip20_FS0.25', 'D10_R_dip20_FS0.5', 'D10_R_dip20_FS0.75', 'D10_R_dip70_FS0.75', 'L10_K_dip20_FS0.25', 'L10_K_dip60_FS0.5', 'L3_A_dip20_FS0.25', 'L3_A_dip20_FS0.5', 'L3_A_dip20_FS0.75', 'L3_A_dip30_FS0.25', 'L3_A_dip30_FS0.5', 'L3_A_dip30_FS0.75', 'L3_A_dip40_FS0.25', 'L3_A_dip40_FS0.5', 'L3_A_dip40_FS0.75', 'M10_K_dip70_FS0.25', 'M10_K_dip70_FS0.5', 'M3_A_dip20_FS0.25', 'M3_A_dip20_FS0.5', 'M3_A_dip20_FS0.75', 'M5_G_dip40_FS0.25']"
   ]
  },
  {
   "cell_type": "code",
   "execution_count": 6,
   "metadata": {},
   "outputs": [
    {
     "name": "stdout",
     "output_type": "stream",
     "text": [
      "TensorFlow version: 2.13.0\n",
      "starting trial  M5_coh5.0e+05_ten1.0e+06_dip60_FS0.25\n",
      "Total Progress  0 / 2\n",
      "starting trial  M5_coh5.0e+05_ten1.0e+06_dip60_FS0.5\n",
      "Total Progress  1 / 2\n"
     ]
    }
   ],
   "source": [
    "#error trials dont have contact folder, images are just wherever\n",
    "interval_of_slip = 0.05\n",
    "number_of_images = int(5/interval_of_slip) + 1\n",
    "for i in range(len(list_of_trials)):\n",
    "    print(\"starting trial \", list_of_trials[i])\n",
    "    print(\"Total Progress \", i, \"/\", len(list_of_trials))\n",
    "    single_image_dict, single_trial_size_dict = preprocess.get_data_from_trials(number_of_images, use_all_trials = False, list_of_trials = [list_of_trials[i]], show_first_image = False)\n",
    "    for image_path in single_image_dict.keys():\n",
    "        test_image = single_image_dict[image_path]\n",
    "        if test_image is not None:\n",
    "            pixel_dictionary = interpolate_image(image_path, test_image, single_trial_size_dict, False, False, False)\n",
    "            # Commenting out so we don't write\n",
    "            operations.put_dict_in_csv(file_to_write_to, pixel_dictionary)\n",
    "        else:\n",
    "            print(f\"Failed to load image: {image_path}\")"
   ]
  },
  {
   "cell_type": "code",
   "execution_count": null,
   "metadata": {},
   "outputs": [
    {
     "name": "stdout",
     "output_type": "stream",
     "text": [
      "['M3_coh1.0e+06_ten1.0e+05_dip30_FS0.25']\n",
      "This many bad trials:  1\n"
     ]
    }
   ],
   "source": [
    "# Path to the file with unique 'Trial' values\n",
    "bad_file_names_path = r\"C:\\Users\\wib994\\WillCode\\HarvardSeismo\\various_filtering_no_duplicates.txt\"\n",
    "\n",
    "# Read unique 'Trial' values from the bad file names file and store in list_of_trials\n",
    "with open(bad_file_names_path, 'r') as bad_file:\n",
    "    list_of_trials = [line.strip() for line in bad_file]\n",
    "\n",
    "# Print the list of trials\n",
    "print(list_of_trials)\n",
    "print(\"This many bad trials: \", len(list_of_trials))"
   ]
  },
  {
   "cell_type": "code",
   "execution_count": null,
   "metadata": {},
   "outputs": [
    {
     "name": "stdout",
     "output_type": "stream",
     "text": [
      "starting trial  M3_coh1.0e+06_ten1.0e+05_dip30_FS0.25\n",
      "Total Progress  0 / 1\n"
     ]
    }
   ],
   "source": [
    "#FOR FIXING THE TRIALS W BAD NUMBERING\n",
    "file_to_write_to = \"good_trials_11_17.csv\"\n",
    "interval_of_slip = 0.05\n",
    "number_of_images = int(5/interval_of_slip) + 1\n",
    "for i, trial in enumerate(list_of_trials):\n",
    "    print(\"starting trial \", trial)\n",
    "    print(\"Total Progress \", i, \"/\", len(list_of_trials))\n",
    "    single_image_dict, single_trial_size_dict = preprocess.get_data_from_trials(number_of_images, use_all_trials = False, list_of_trials = [trial], show_first_image = False)\n",
    "    for image_path in single_image_dict.keys():\n",
    "        test_image = single_image_dict[image_path]\n",
    "        if test_image is not None:\n",
    "            pixel_dictionary = interpolate_image(image_path, test_image, single_trial_size_dict, False)\n",
    "            # Commenting out so we don't write\n",
    "            operations.put_dict_in_csv(file_to_write_to, pixel_dictionary)\n",
    "        else:\n",
    "            print(f\"Failed to load image: {image_path}\")"
   ]
  }
 ],
 "metadata": {
  "kernelspec": {
   "display_name": "harvardenv",
   "language": "python",
   "name": "python3"
  },
  "language_info": {
   "codemirror_mode": {
    "name": "ipython",
    "version": 3
   },
   "file_extension": ".py",
   "mimetype": "text/x-python",
   "name": "python",
   "nbconvert_exporter": "python",
   "pygments_lexer": "ipython3",
   "version": "3.11.9"
  },
  "orig_nbformat": 4
 },
 "nbformat": 4,
 "nbformat_minor": 2
}
